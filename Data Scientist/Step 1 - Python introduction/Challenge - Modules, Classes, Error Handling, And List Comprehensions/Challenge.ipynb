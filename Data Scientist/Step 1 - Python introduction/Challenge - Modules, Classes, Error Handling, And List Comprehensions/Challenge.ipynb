{
 "cells": [
  {
   "cell_type": "markdown",
   "metadata": {
    "heading_collapsed": false,
    "level": 1,
    "toc": "true"
   },
   "source": [
    "# Table of Contents\n",
    " <p><div class=\"lev1\"><a href=\"#Introduction-to-the-data\"><span class=\"toc-item-num\">1&nbsp;&nbsp;</span>Introduction to the data</a></div><div class=\"lev1\"><a href=\"#Unique-values\"><span class=\"toc-item-num\">2&nbsp;&nbsp;</span>Unique values</a></div><div class=\"lev1\"><a href=\"#Suspension-Class\"><span class=\"toc-item-num\">3&nbsp;&nbsp;</span>Suspension Class</a></div>"
   ]
  },
  {
   "cell_type": "markdown",
   "metadata": {
    "heading_collapsed": false,
    "level": 1
   },
   "source": [
    "# Introduction to the data"
   ]
  },
  {
   "cell_type": "markdown",
   "metadata": {
    "level": 7
   },
   "source": [
    "In this challenge, we'll practice using modules, classes, and list comprehensions to process and represent a data set in Python.\n",
    "\n",
    "We'll be working with data on NFL player suspensions. The [FiveThirtyEight team](https://www.dataquest.io/mission/187/challenge-modules-classes-error-handling-and-list-comprehensions/2/www.fivethirtyeight.com) compiled the data set for a [piece on domestic violence](http://fivethirtyeight.com/features/nfl-domestic-violence-policy-suspensions/). It's downloadable [here](https://github.com/fivethirtyeight/data/blob/master/nfl-suspensions/nfl-suspensions-data.csv). \n",
    "\n",
    "The data set contains all domestic violence-related suspensions issued before 2014.\n",
    "\n",
    "Here's a preview of what the file, nfl_suspensions_data.csv, looks like:"
   ]
  },
  {
   "cell_type": "code",
   "execution_count": 2,
   "metadata": {
    "collapsed": false,
    "level": 7
   },
   "outputs": [
    {
     "data": {
      "text/html": [
       "<table class=\"table table-bordered\"> <tbody><tr> <th>name</th> <th>team</th> <th>games</th> <th>category</th> <th>desc.</th> <th>year</th> <th>source</th> </tr> <tr> <td>F. Davis</td> <td>WAS</td> <td>Indef.</td> <td>Substance abuse, repeated offense</td> <td>Marijuana-related</td> <td>2014</td> <td>http://www.cbssports.com/nfl/eye-on-football/24448694/redskins-te-fred-davis-suspended-Indefiniteinitely-by-nfl</td> </tr> <tr> <td>J. Blackmon</td> <td>JAX</td> <td>Indef.</td> <td>Substance abuse, repeated offense</td> <td></td> <td>2014</td> <td>http://espn.go.com/nfl/story/_/id/11257934/justin-blackmon-jacksonville-jaguars-arrested-marijuana-possession</td> </tr> <tr> <td>L. Brazill</td> <td>IND</td> <td>Indef.</td> <td>Substance abuse, repeated offense</td> <td></td> <td>2014</td> <td>http://www.nfl.com/news/story/0ap2000000364622/article/lavon-brazill-released-by-colts-in-wake-of-suspension </td> </tr> </tbody></table>"
      ],
      "text/plain": [
       "<IPython.core.display.HTML object>"
      ]
     },
     "metadata": {},
     "output_type": "display_data"
    }
   ],
   "source": [
    "from IPython.core.display import display, HTML\n",
    "display(HTML('<table class=\"table table-bordered\"> <tbody><tr> <th>name</th> <th>team</th> <th>games</th> <th>category</th> <th>desc.</th> <th>year</th> <th>source</th> </tr> <tr> <td>F. Davis</td> <td>WAS</td> <td>Indef.</td> <td>Substance abuse, repeated offense</td> <td>Marijuana-related</td> <td>2014</td> <td>http://www.cbssports.com/nfl/eye-on-football/24448694/redskins-te-fred-davis-suspended-Indefiniteinitely-by-nfl</td> </tr> <tr> <td>J. Blackmon</td> <td>JAX</td> <td>Indef.</td> <td>Substance abuse, repeated offense</td> <td></td> <td>2014</td> <td>http://espn.go.com/nfl/story/_/id/11257934/justin-blackmon-jacksonville-jaguars-arrested-marijuana-possession</td> </tr> <tr> <td>L. Brazill</td> <td>IND</td> <td>Indef.</td> <td>Substance abuse, repeated offense</td> <td></td> <td>2014</td> <td>http://www.nfl.com/news/story/0ap2000000364622/article/lavon-brazill-released-by-colts-in-wake-of-suspension </td> </tr> </tbody></table>'))"
   ]
  },
  {
   "cell_type": "markdown",
   "metadata": {
    "level": 7
   },
   "source": [
    "Let's read the file into Python and explore the data to become more familiar with it."
   ]
  },
  {
   "cell_type": "markdown",
   "metadata": {
    "level": 7
   },
   "source": [
    "<div class=\"alert alert-info\">\n",
    "- Read the dataset into a list of lists.\n",
    "    - Import the csv module.\n",
    "    - Create a File handler for nfl_suspensions_data.csv.\n",
    "    - Use the csv.reader() and list() methods to read the file into a list named nfl_suspensions."
   ]
  },
  {
   "cell_type": "code",
   "execution_count": 3,
   "metadata": {
    "collapsed": true,
    "level": 7
   },
   "outputs": [],
   "source": [
    "import csv"
   ]
  },
  {
   "cell_type": "code",
   "execution_count": 34,
   "metadata": {
    "collapsed": false,
    "level": 7
   },
   "outputs": [],
   "source": [
    "nfl_suspensions = []\n",
    "with open(\"nfl_suspensions_data.csv\", \"r\") as file:\n",
    "    nfl_reader = csv.reader(file)\n",
    "    for row in nfl_reader:\n",
    "        nfl_suspensions.append(row)"
   ]
  },
  {
   "cell_type": "markdown",
   "metadata": {
    "level": 7
   },
   "source": [
    "<div class=\"alert alert-info\">\n",
    "- Remove the first list in nfl_suspensions, which contains the header row of the CSV file."
   ]
  },
  {
   "cell_type": "code",
   "execution_count": 28,
   "metadata": {
    "collapsed": false,
    "level": 7
   },
   "outputs": [
    {
     "data": {
      "text/plain": [
       "['name', 'team', 'games', 'category', 'desc.', 'year', 'source']"
      ]
     },
     "execution_count": 28,
     "metadata": {},
     "output_type": "execute_result"
    }
   ],
   "source": [
    "nfl_suspensions.pop(0)"
   ]
  },
  {
   "cell_type": "markdown",
   "metadata": {
    "level": 7
   },
   "source": [
    "<div class=\"alert alert-info\">\n",
    "- Count the number of times each value in the year column occurs.\n",
    "    - Create an empty dictionary called years.\n",
    "    - Use a for loop to iterate over the list in nfl_suspensions representing the year column:\n",
    "    - Extract that row's value for the year column and assign it to row_year.\n",
    "    - If row_year is already a key in years, add 1 to the value for that key.\n",
    "    - If row_year isn't already a key in years, set the value for the key to 1.\n",
    "<\\div>"
   ]
  },
  {
   "cell_type": "code",
   "execution_count": 30,
   "metadata": {
    "collapsed": true,
    "level": 7
   },
   "outputs": [],
   "source": [
    "years = {}\n",
    "\n",
    "for row in nfl_suspensions:\n",
    "    row_year = row[5]\n",
    "    if row_year in years:\n",
    "        years[row_year] += 1\n",
    "    else:\n",
    "        years[row_year] = 1"
   ]
  },
  {
   "cell_type": "markdown",
   "metadata": {
    "level": 7
   },
   "source": [
    "<div class=\"alert alert-info\">\n",
    "- Use the print() function to display the dictionary years."
   ]
  },
  {
   "cell_type": "code",
   "execution_count": 35,
   "metadata": {
    "collapsed": false,
    "level": 7
   },
   "outputs": [
    {
     "name": "stdout",
     "output_type": "stream",
     "text": [
      "{'2014': 29, '2013': 40, '1947': 1, '1986': 1, '2011': 13, '1999': 5, '2003': 9, '1983': 1, '1963': 1, '2007': 17, '   ': 1, '1993': 1, '2002': 7, '2012': 45, '1946': 1, '1998': 2, '2008': 10, '2000': 1, '1997': 3, '1990': 3, '2005': 8, '1989': 17, '2004': 6, '1995': 1, '2009': 10, '2010': 21, '1994': 1, '2006': 11, '2001': 3}\n"
     ]
    }
   ],
   "source": [
    "print(years)"
   ]
  },
  {
   "cell_type": "markdown",
   "metadata": {
    "heading_collapsed": false,
    "level": 1
   },
   "source": [
    "# Unique values"
   ]
  },
  {
   "cell_type": "markdown",
   "metadata": {
    "level": 7
   },
   "source": [
    "Let's explore the values in these columns by using sets and list comprehensions."
   ]
  },
  {
   "cell_type": "markdown",
   "metadata": {
    "level": 7
   },
   "source": [
    "<div class=\"alert alert-info\">\n",
    "- Retrieve the unique values in the team column and assign the list to unique_teams.\n",
    "    - Use a list comprehension to create a new list containing just the values in the team column.\n",
    "    - Use the set() function to return a list containing only the unique values and assign to unique_teams."
   ]
  },
  {
   "cell_type": "code",
   "execution_count": 37,
   "metadata": {
    "collapsed": true,
    "level": 7
   },
   "outputs": [],
   "source": [
    "teams = [row[1] for row in nfl_suspensions]"
   ]
  },
  {
   "cell_type": "code",
   "execution_count": 38,
   "metadata": {
    "collapsed": true,
    "level": 7
   },
   "outputs": [],
   "source": [
    "unique_teams = set(teams)"
   ]
  },
  {
   "cell_type": "markdown",
   "metadata": {
    "level": 7
   },
   "source": [
    "<div class=\"alert alert-info\">\n",
    "- Retrieve the unique values in the games column and assign the list to unique_games.\n",
    "    - Use a list comprehension to create a new list containined just the values in the games column.\n",
    "    - Use the set() function to return a list containing only the unique values and assign to unique_games."
   ]
  },
  {
   "cell_type": "code",
   "execution_count": 41,
   "metadata": {
    "collapsed": true
   },
   "outputs": [],
   "source": [
    "unique_games = set([row[2] for row in nfl_suspensions])"
   ]
  },
  {
   "cell_type": "markdown",
   "metadata": {
    "level": 7
   },
   "source": [
    "<div class=\"alert alert-info\">\n",
    "- Display unique_teams and unique_games."
   ]
  },
  {
   "cell_type": "code",
   "execution_count": 43,
   "metadata": {
    "collapsed": false
   },
   "outputs": [
    {
     "name": "stdout",
     "output_type": "stream",
     "text": [
      "{'MIA', 'NYJ', 'GB', 'ATL', 'BAL', 'NE', 'DEN', 'SF', 'MIN', 'LA', 'OAK', 'IND', 'NO', 'DET', 'KC', 'BUF', 'TEN', 'PIT', 'WAS', 'CIN', 'NYG', 'SD', 'CAR', 'DAL', 'PHI', 'CLE', 'SEA', 'STL', 'HOU', 'FREE', 'team', 'CHI', 'JAX', 'ARI', 'TB'}\n",
      "{'14', '1', '5', '2', '8', '16', '10', '6', '32', '20', '3', '36', 'Indef.', 'games', '4'}\n"
     ]
    }
   ],
   "source": [
    "print(unique_teams)\n",
    "print(unique_games)"
   ]
  },
  {
   "cell_type": "markdown",
   "metadata": {
    "heading_collapsed": false,
    "level": 1
   },
   "source": [
    "# Suspension Class"
   ]
  },
  {
   "cell_type": "markdown",
   "metadata": {
    "level": 7
   },
   "source": [
    "Next, let's create a `Suspension` class that we can use to represent each NFL suspension in the data set."
   ]
  },
  {
   "cell_type": "code",
   "execution_count": null,
   "metadata": {
    "collapsed": true
   },
   "outputs": [],
   "source": []
  }
 ],
 "metadata": {
  "anaconda-cloud": {},
  "kernelspec": {
   "display_name": "Python [conda root]",
   "language": "python",
   "name": "conda-root-py"
  },
  "language_info": {
   "codemirror_mode": {
    "name": "ipython",
    "version": 3
   },
   "file_extension": ".py",
   "mimetype": "text/x-python",
   "name": "python",
   "nbconvert_exporter": "python",
   "pygments_lexer": "ipython3",
   "version": "3.4.4"
  },
  "latex_envs": {
   "bibliofile": "biblio.bib",
   "cite_by": "apalike",
   "current_citInitial": 1,
   "eqLabelWithNumbers": true,
   "eqNumInitial": 0
  },
  "toc": {
   "toc_cell": true,
   "toc_number_sections": true,
   "toc_threshold": 6,
   "toc_window_display": false
  }
 },
 "nbformat": 4,
 "nbformat_minor": 1
}
