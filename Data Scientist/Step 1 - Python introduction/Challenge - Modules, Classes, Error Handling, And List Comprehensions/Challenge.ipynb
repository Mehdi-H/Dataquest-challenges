{
 "cells": [
  {
   "cell_type": "markdown",
   "metadata": {
    "heading_collapsed": false,
    "level": 1,
    "toc": "true"
   },
   "source": [
    "# Table of Contents\n",
    " <p><div class=\"lev1\"><a href=\"#Introduction-to-the-data\"><span class=\"toc-item-num\">1&nbsp;&nbsp;</span>Introduction to the data</a></div>"
   ]
  },
  {
   "cell_type": "markdown",
   "metadata": {
    "heading_collapsed": false,
    "level": 1
   },
   "source": [
    "# Introduction to the data"
   ]
  },
  {
   "cell_type": "markdown",
   "metadata": {
    "level": 7
   },
   "source": [
    "In this challenge, we'll practice using modules, classes, and list comprehensions to process and represent a data set in Python.\n",
    "\n",
    "We'll be working with data on NFL player suspensions. The [FiveThirtyEight team](https://www.dataquest.io/mission/187/challenge-modules-classes-error-handling-and-list-comprehensions/2/www.fivethirtyeight.com) compiled the data set for a [piece on domestic violence](http://fivethirtyeight.com/features/nfl-domestic-violence-policy-suspensions/). It's downloadable [here](https://github.com/fivethirtyeight/data/blob/master/nfl-suspensions/nfl-suspensions-data.csv). \n",
    "\n",
    "The data set contains all domestic violence-related suspensions issued before 2014.\n",
    "\n",
    "Here's a preview of what the file, nfl_suspensions_data.csv, looks like:"
   ]
  },
  {
   "cell_type": "code",
   "execution_count": 2,
   "metadata": {
    "collapsed": false
   },
   "outputs": [
    {
     "data": {
      "text/html": [
       "<table class=\"table table-bordered\"> <tbody><tr> <th>name</th> <th>team</th> <th>games</th> <th>category</th> <th>desc.</th> <th>year</th> <th>source</th> </tr> <tr> <td>F. Davis</td> <td>WAS</td> <td>Indef.</td> <td>Substance abuse, repeated offense</td> <td>Marijuana-related</td> <td>2014</td> <td>http://www.cbssports.com/nfl/eye-on-football/24448694/redskins-te-fred-davis-suspended-Indefiniteinitely-by-nfl</td> </tr> <tr> <td>J. Blackmon</td> <td>JAX</td> <td>Indef.</td> <td>Substance abuse, repeated offense</td> <td></td> <td>2014</td> <td>http://espn.go.com/nfl/story/_/id/11257934/justin-blackmon-jacksonville-jaguars-arrested-marijuana-possession</td> </tr> <tr> <td>L. Brazill</td> <td>IND</td> <td>Indef.</td> <td>Substance abuse, repeated offense</td> <td></td> <td>2014</td> <td>http://www.nfl.com/news/story/0ap2000000364622/article/lavon-brazill-released-by-colts-in-wake-of-suspension </td> </tr> </tbody></table>"
      ],
      "text/plain": [
       "<IPython.core.display.HTML object>"
      ]
     },
     "metadata": {},
     "output_type": "display_data"
    }
   ],
   "source": [
    "from IPython.core.display import display, HTML\n",
    "display(HTML('<table class=\"table table-bordered\"> <tbody><tr> <th>name</th> <th>team</th> <th>games</th> <th>category</th> <th>desc.</th> <th>year</th> <th>source</th> </tr> <tr> <td>F. Davis</td> <td>WAS</td> <td>Indef.</td> <td>Substance abuse, repeated offense</td> <td>Marijuana-related</td> <td>2014</td> <td>http://www.cbssports.com/nfl/eye-on-football/24448694/redskins-te-fred-davis-suspended-Indefiniteinitely-by-nfl</td> </tr> <tr> <td>J. Blackmon</td> <td>JAX</td> <td>Indef.</td> <td>Substance abuse, repeated offense</td> <td></td> <td>2014</td> <td>http://espn.go.com/nfl/story/_/id/11257934/justin-blackmon-jacksonville-jaguars-arrested-marijuana-possession</td> </tr> <tr> <td>L. Brazill</td> <td>IND</td> <td>Indef.</td> <td>Substance abuse, repeated offense</td> <td></td> <td>2014</td> <td>http://www.nfl.com/news/story/0ap2000000364622/article/lavon-brazill-released-by-colts-in-wake-of-suspension </td> </tr> </tbody></table>'))"
   ]
  },
  {
   "cell_type": "markdown",
   "metadata": {
    "level": 7
   },
   "source": [
    "Let's read the file into Python and explore the data to become more familiar with it."
   ]
  },
  {
   "cell_type": "code",
   "execution_count": null,
   "metadata": {
    "collapsed": true
   },
   "outputs": [],
   "source": []
  }
 ],
 "metadata": {
  "anaconda-cloud": {},
  "kernelspec": {
   "display_name": "Python [conda root]",
   "language": "python",
   "name": "conda-root-py"
  },
  "language_info": {
   "codemirror_mode": {
    "name": "ipython",
    "version": 3
   },
   "file_extension": ".py",
   "mimetype": "text/x-python",
   "name": "python",
   "nbconvert_exporter": "python",
   "pygments_lexer": "ipython3",
   "version": "3.4.4"
  },
  "latex_envs": {
   "bibliofile": "biblio.bib",
   "cite_by": "apalike",
   "current_citInitial": 1,
   "eqLabelWithNumbers": true,
   "eqNumInitial": 0
  },
  "toc": {
   "toc_cell": true,
   "toc_number_sections": true,
   "toc_threshold": 6,
   "toc_window_display": false
  }
 },
 "nbformat": 4,
 "nbformat_minor": 1
}
