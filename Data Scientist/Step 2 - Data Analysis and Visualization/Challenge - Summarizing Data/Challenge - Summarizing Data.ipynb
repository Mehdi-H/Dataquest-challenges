{
 "cells": [
  {
   "cell_type": "markdown",
   "metadata": {
    "heading_collapsed": false,
    "level": 1,
    "toc": "true"
   },
   "source": [
    "# Table of Contents\n",
    " <p><div class=\"lev1\"><a href=\"#Challenge:-Summarizing-Data\"><span class=\"toc-item-num\">1&nbsp;&nbsp;</span>Challenge: Summarizing Data</a></div><div class=\"lev1\"><a href=\"#Introduction-To-The-Data\"><span class=\"toc-item-num\">2&nbsp;&nbsp;</span>Introduction To The Data</a></div><div class=\"lev1\"><a href=\"#Summarizing-Major-Categories\"><span class=\"toc-item-num\">3&nbsp;&nbsp;</span>Summarizing Major Categories</a></div><div class=\"lev1\"><a href=\"#Low-Wage-Job-Rates\"><span class=\"toc-item-num\">4&nbsp;&nbsp;</span>Low-Wage Job Rates</a></div><div class=\"lev1\"><a href=\"#Comparing-Data-Sets\"><span class=\"toc-item-num\">5&nbsp;&nbsp;</span>Comparing Data Sets</a></div>"
   ]
  },
  {
   "cell_type": "markdown",
   "metadata": {
    "level": 7
   },
   "source": [
    "Challenge: Summarizing Data\n",
    "==========================="
   ]
  },
  {
   "cell_type": "markdown",
   "metadata": {
    "level": 7
   },
   "source": [
    "The American Community Survey is a U.S. Census Bureau survey that collects data on everything from housing affordability to industry employment rates. For this challenge, we'll be using the data that the team at FiveThirtyEight derived from the 2010-2012 American Community Surveys. FiveThirtyEight cleaned the data set and made it available in a Github repository.\n",
    "\n",
    "Here's a quick overview of the files we'll be working with:\n",
    "\n",
    "- **all-ages.csv** - Employment data by major for all ages\n",
    "- **recent-grads.csv** - Employment data by major for recent college graduates only\n",
    "\n",
    "Here are descriptions for a few of the columns (out of 21 total columns):\n",
    "\n",
    "- **Rank** - The major's numerical rank, by post-graduation median earnings\n",
    "- **Major_code** - The major's numerical code\n",
    "- **Major** - The major's description\n",
    "- **Major_category** - The major's category\n",
    "- **Total** - The total number of people who studied the major\n",
    "- **Men** - The number of men who studied the major\n",
    "- **Women** - The number of women who studied the major\n",
    "- **ShareWomen** - The share of women (from 0 to 1) who studied the major\n",
    "- **Employed** - The number of people who studied the major and obtained a job after graduating\n",
    "\n",
    "\n",
    "Here are the first few rows and columns in recent-grads.csv. The data set all-ages.csv has the same structure, but with different values for some of the columns:"
   ]
  },
  {
   "cell_type": "code",
   "execution_count": 2,
   "metadata": {
    "collapsed": false,
    "level": 7
   },
   "outputs": [
    {
     "data": {
      "text/html": [
       "<table class=\"table table-bordered\"> <thead><tr> <th>Rank</th> <th>Major_code</th> <th>Major</th> <th>Major_category</th> <th>Total</th> <th>Sample_size</th> <th>Men</th> <th>Women</th> <th>ShareWomen</th> <th>Employed</th> </tr> </thead> <tbody> <tr> <td>1</td> <td>2419</td> <td>PETROLEUM ENGINEERING</td> <td>Engineering</td> <td>2339</td> <td>36</td> <td>2057</td> <td>282</td> <td>0.120564</td> <td>1976</td> </tr> <tr> <td>2</td> <td>2416</td> <td>MINING AND MINERAL ENGINEERING</td> <td>Engineering</td> <td>756</td> <td>7</td> <td>679</td> <td>77</td> <td>0.101852</td> <td>640</td> </tr> <tr> <td>3</td> <td>2415</td> <td>METALLURGICAL ENGINEERING</td> <td>Engineering</td> <td>856</td> <td>3</td> <td>725</td> <td>131</td> <td>0.153037</td> <td>648</td> </tr> <tr> <td>4</td> <td>2417</td> <td>NAVAL ARCHITECTURE AND MARINE ENGINEERING</td> <td>Engineering</td> <td>1258</td> <td>16</td> <td>1123</td> <td>135</td> <td>0.107313</td> <td>758</td> </tr> <tr> <td>5</td> <td>2405</td> <td>CHEMICAL ENGINEERING</td> <td>Engineering</td> <td>32260</td> <td>289</td> <td>21239</td> <td>11021</td> <td>0.341631</td> <td>25694 </td> </tr> </tbody> </table>"
      ],
      "text/plain": [
       "<IPython.core.display.HTML object>"
      ]
     },
     "metadata": {},
     "output_type": "display_data"
    }
   ],
   "source": [
    "from IPython.core.display import display, HTML\n",
    "display(HTML('<table class=\"table table-bordered\"> <thead><tr> <th>Rank</th> <th>Major_code</th> <th>Major</th> <th>Major_category</th> <th>Total</th> <th>Sample_size</th> <th>Men</th> <th>Women</th> <th>ShareWomen</th> <th>Employed</th> </tr> </thead> <tbody> <tr> <td>1</td> <td>2419</td> <td>PETROLEUM ENGINEERING</td> <td>Engineering</td> <td>2339</td> <td>36</td> <td>2057</td> <td>282</td> <td>0.120564</td> <td>1976</td> </tr> <tr> <td>2</td> <td>2416</td> <td>MINING AND MINERAL ENGINEERING</td> <td>Engineering</td> <td>756</td> <td>7</td> <td>679</td> <td>77</td> <td>0.101852</td> <td>640</td> </tr> <tr> <td>3</td> <td>2415</td> <td>METALLURGICAL ENGINEERING</td> <td>Engineering</td> <td>856</td> <td>3</td> <td>725</td> <td>131</td> <td>0.153037</td> <td>648</td> </tr> <tr> <td>4</td> <td>2417</td> <td>NAVAL ARCHITECTURE AND MARINE ENGINEERING</td> <td>Engineering</td> <td>1258</td> <td>16</td> <td>1123</td> <td>135</td> <td>0.107313</td> <td>758</td> </tr> <tr> <td>5</td> <td>2405</td> <td>CHEMICAL ENGINEERING</td> <td>Engineering</td> <td>32260</td> <td>289</td> <td>21239</td> <td>11021</td> <td>0.341631</td> <td>25694 </td> </tr> </tbody> </table>'))"
   ]
  },
  {
   "cell_type": "markdown",
   "metadata": {
    "heading_collapsed": false,
    "level": 1
   },
   "source": [
    "# Introduction To The Data"
   ]
  },
  {
   "cell_type": "markdown",
   "metadata": {
    "collapsed": true,
    "level": 7
   },
   "source": [
    "<div class=\"alert alert-info\">\n",
    "    <ul>\n",
    "        <li>Read all-ages.csv into a DataFrame object, and assign it to all_ages.</li>\n",
    "        <li>Read recent-grads.csv into a DataFrame object, and assign it to recent_grads.</li>\n",
    "        <li>Display the first five rows of all_ages and recent_grads.</li>\n",
    "    </ul>\n",
    "</div>"
   ]
  },
  {
   "cell_type": "code",
   "execution_count": 1,
   "metadata": {
    "collapsed": true,
    "level": 7
   },
   "outputs": [],
   "source": [
    "import pandas as pd"
   ]
  },
  {
   "cell_type": "code",
   "execution_count": 3,
   "metadata": {
    "collapsed": false,
    "level": 7
   },
   "outputs": [],
   "source": [
    "all_ages = pd.read_csv(\"all-ages.csv\")"
   ]
  },
  {
   "cell_type": "code",
   "execution_count": 6,
   "metadata": {
    "collapsed": false,
    "level": 7
   },
   "outputs": [
    {
     "name": "stdout",
     "output_type": "stream",
     "text": [
      "   Major_code                                  Major  \\\n",
      "0        1100                    GENERAL AGRICULTURE   \n",
      "1        1101  AGRICULTURE PRODUCTION AND MANAGEMENT   \n",
      "2        1102                 AGRICULTURAL ECONOMICS   \n",
      "3        1103                        ANIMAL SCIENCES   \n",
      "4        1104                           FOOD SCIENCE   \n",
      "\n",
      "                    Major_category   Total  Employed  \\\n",
      "0  Agriculture & Natural Resources  128148     90245   \n",
      "1  Agriculture & Natural Resources   95326     76865   \n",
      "2  Agriculture & Natural Resources   33955     26321   \n",
      "3  Agriculture & Natural Resources  103549     81177   \n",
      "4  Agriculture & Natural Resources   24280     17281   \n",
      "\n",
      "   Employed_full_time_year_round  Unemployed  Unemployment_rate  Median  \\\n",
      "0                          74078        2423           0.026147   50000   \n",
      "1                          64240        2266           0.028636   54000   \n",
      "2                          22810         821           0.030248   63000   \n",
      "3                          64937        3619           0.042679   46000   \n",
      "4                          12722         894           0.049188   62000   \n",
      "\n",
      "   P25th    P75th  \n",
      "0  34000  80000.0  \n",
      "1  36000  80000.0  \n",
      "2  40000  98000.0  \n",
      "3  30000  72000.0  \n",
      "4  38500  90000.0  \n"
     ]
    }
   ],
   "source": [
    "print(all_ages.head(5))"
   ]
  },
  {
   "cell_type": "code",
   "execution_count": 5,
   "metadata": {
    "collapsed": false,
    "level": 7
   },
   "outputs": [],
   "source": [
    "recent_grads = pd.read_csv(\"recent-grads.csv\")"
   ]
  },
  {
   "cell_type": "code",
   "execution_count": 7,
   "metadata": {
    "collapsed": false,
    "level": 7
   },
   "outputs": [
    {
     "name": "stdout",
     "output_type": "stream",
     "text": [
      "   Rank  Major_code                                      Major Major_category  \\\n",
      "0     1        2419                      PETROLEUM ENGINEERING    Engineering   \n",
      "1     2        2416             MINING AND MINERAL ENGINEERING    Engineering   \n",
      "2     3        2415                  METALLURGICAL ENGINEERING    Engineering   \n",
      "3     4        2417  NAVAL ARCHITECTURE AND MARINE ENGINEERING    Engineering   \n",
      "4     5        2405                       CHEMICAL ENGINEERING    Engineering   \n",
      "\n",
      "   Total  Sample_size    Men  Women  ShareWomen  Employed      ...        \\\n",
      "0   2339           36   2057    282    0.120564      1976      ...         \n",
      "1    756            7    679     77    0.101852       640      ...         \n",
      "2    856            3    725    131    0.153037       648      ...         \n",
      "3   1258           16   1123    135    0.107313       758      ...         \n",
      "4  32260          289  21239  11021    0.341631     25694      ...         \n",
      "\n",
      "   Part_time  Full_time_year_round  Unemployed  Unemployment_rate  Median  \\\n",
      "0        270                  1207          37           0.018381  110000   \n",
      "1        170                   388          85           0.117241   75000   \n",
      "2        133                   340          16           0.024096   73000   \n",
      "3        150                   692          40           0.050125   70000   \n",
      "4       5180                 16697        1672           0.061098   65000   \n",
      "\n",
      "   P25th   P75th  College_jobs  Non_college_jobs  Low_wage_jobs  \n",
      "0  95000  125000          1534               364            193  \n",
      "1  55000   90000           350               257             50  \n",
      "2  50000  105000           456               176              0  \n",
      "3  43000   80000           529               102              0  \n",
      "4  50000   75000         18314              4440            972  \n",
      "\n",
      "[5 rows x 21 columns]\n"
     ]
    }
   ],
   "source": [
    "print(recent_grads.head(5))"
   ]
  },
  {
   "cell_type": "markdown",
   "metadata": {
    "heading_collapsed": false,
    "level": 1
   },
   "source": [
    "# Summarizing Major Categories"
   ]
  },
  {
   "cell_type": "markdown",
   "metadata": {
    "level": 7
   },
   "source": [
    "Both of these data sets group the various majors into categories in the Major_category column. Let's start by understanding the number of people in each Major_category for both data sets."
   ]
  },
  {
   "cell_type": "markdown",
   "metadata": {
    "level": 7
   },
   "source": [
    "<div class=\"alert alert-info\">\n",
    "    <ul>\n",
    "        <li>\n",
    "            Use the Total column to calculate the number of people who fall under each Major_category in each data set.\n",
    "Store the result as a separate dictionary for each data set.\n",
    "            <ul>\n",
    "                <li>The key for the dictionary should be the Major_category, and the value should be the total count.</li>\n",
    "                <li>For the counts from all_ages, store the results as a dictionary named aa_cat_counts.</li>\n",
    "                <li>For the counts from recent_grads, store the results as a dictionary named rg_cat_counts.</li>\n",
    "            </ul>\n",
    "        </li>\n",
    "    </ul>\n",
    "</div>"
   ]
  },
  {
   "cell_type": "code",
   "execution_count": 53,
   "metadata": {
    "collapsed": false,
    "level": 7
   },
   "outputs": [],
   "source": [
    "# Let's initialize the dicts\n",
    "aa_cat_counts = dict()\n",
    "rg_cat_counts = dict()"
   ]
  },
  {
   "cell_type": "code",
   "execution_count": 54,
   "metadata": {
    "collapsed": false,
    "level": 7
   },
   "outputs": [],
   "source": [
    "def total_count(df):\n",
    "    \"\"\"Counts in a dictionary the total number of people who fall under each Major_category in each data set\"\"\"\n",
    "    cats = df['Major_category'].unique()\n",
    "    return_dict = dict()\n",
    "    \n",
    "    # for each unique category\n",
    "    for cat in cats:\n",
    "        # we subset the rows matching this category as a major category\n",
    "        major_df = df[df[\"Major_category\"] == cat]\n",
    "        # we sum its number of members\n",
    "        total = major_df[\"Total\"].sum()\n",
    "        # we store it in the return dictionary\n",
    "        return_dict[cat] = total\n",
    "    return return_dict"
   ]
  },
  {
   "cell_type": "code",
   "execution_count": 55,
   "metadata": {
    "collapsed": false,
    "level": 7
   },
   "outputs": [],
   "source": [
    "aa_cat_counts = total_count(all_ages)\n",
    "rg_cat_counts = total_count(recent_grads)"
   ]
  },
  {
   "cell_type": "code",
   "execution_count": 56,
   "metadata": {
    "collapsed": false,
    "level": 7
   },
   "outputs": [
    {
     "name": "stdout",
     "output_type": "stream",
     "text": [
      "Physical Sciences : 1025318\n",
      "Business : 9858741\n",
      "Biology & Life Science : 1338186\n",
      "Education : 4700118\n",
      "Arts : 1805865\n",
      "Computers & Mathematics : 1781378\n",
      "Health : 2950859\n",
      "Engineering : 3576013\n",
      "Humanities & Liberal Arts : 3738335\n",
      "Psychology & Social Work : 1987278\n",
      "Social Science : 2654125\n",
      "Law & Public Policy : 902926\n",
      "Agriculture & Natural Resources : 632437\n",
      "Interdisciplinary : 45199\n",
      "Industrial Arts & Consumer Services : 1033798\n",
      "Communications & Journalism : 1803822\n"
     ]
    }
   ],
   "source": [
    "for cat,tot in aa_cat_counts.items():\n",
    "    print(cat, \":\", tot)"
   ]
  },
  {
   "cell_type": "code",
   "execution_count": 57,
   "metadata": {
    "collapsed": false,
    "level": 7
   },
   "outputs": [
    {
     "name": "stdout",
     "output_type": "stream",
     "text": [
      "Physical Sciences : 185479\n",
      "Biology & Life Science : 453862\n",
      "Education : 559129\n",
      "Agriculture & Natural Resources : 79981\n",
      "Arts : 357130\n",
      "Computers & Mathematics : 299008\n",
      "Health : 463230\n",
      "Engineering : 537583\n",
      "Interdisciplinary : 12296\n",
      "Humanities & Liberal Arts : 713468\n",
      "Social Science : 529966\n",
      "Law & Public Policy : 179107\n",
      "Business : 1302376\n",
      "Psychology & Social Work : 481007\n",
      "Industrial Arts & Consumer Services : 229792\n",
      "Communications & Journalism : 392601\n"
     ]
    }
   ],
   "source": [
    "for cat,tot in rg_cat_counts.items():\n",
    "    print(cat, \":\", tot)"
   ]
  },
  {
   "cell_type": "markdown",
   "metadata": {
    "heading_collapsed": false,
    "level": 1
   },
   "source": [
    "# Low-Wage Job Rates"
   ]
  },
  {
   "cell_type": "markdown",
   "metadata": {
    "level": 7
   },
   "source": [
    "The [press likes to talk](http://bit.ly/1fNLmaT) about the number of college graduates working low-pay, unskilled jobs because they can't find better ones. As a data person, you should be skeptical of any broad claims, and analyze relevant data to obtain a more nuanced view.\n",
    "\n",
    "Let's run some basic calculations to explore that idea further."
   ]
  },
  {
   "cell_type": "markdown",
   "metadata": {
    "level": 7
   },
   "source": [
    "<div class=\"alert alert-info\">\n",
    "    <ul>\n",
    "        <li>\n",
    "            Use the Low_wage_jobs and Total columns to calculate the proportion of recent college graduates that worked low wage jobs.\n",
    "            <ul>\n",
    "                <li>Recall that you can use the Series.sum() method to return the sum of the values in a column</li>\n",
    "            </ul>\n",
    "        </li>\n",
    "        <li>Store the resulting float as low_wage_percent, and display the value with the print() function.</li>\n",
    "    </ul>\n",
    "</div>"
   ]
  },
  {
   "cell_type": "code",
   "execution_count": 63,
   "metadata": {
    "collapsed": false,
    "level": 7
   },
   "outputs": [],
   "source": [
    "low_wage_percent = 0.0"
   ]
  },
  {
   "cell_type": "code",
   "execution_count": 64,
   "metadata": {
    "collapsed": false,
    "level": 7
   },
   "outputs": [],
   "source": [
    "low_wage_jobs_sum = recent_grads['Low_wage_jobs'].sum()\n",
    "recent_grads_sum = recent_grads['Total'].sum()"
   ]
  },
  {
   "cell_type": "code",
   "execution_count": 65,
   "metadata": {
    "collapsed": false,
    "level": 7
   },
   "outputs": [],
   "source": [
    "low_wage_percent = low_wage_jobs_sum / recent_grads_sum"
   ]
  },
  {
   "cell_type": "code",
   "execution_count": 66,
   "metadata": {
    "collapsed": false,
    "level": 7
   },
   "outputs": [
    {
     "name": "stdout",
     "output_type": "stream",
     "text": [
      "0.09852546076122913\n"
     ]
    }
   ],
   "source": [
    "print(low_wage_percent)"
   ]
  },
  {
   "cell_type": "markdown",
   "metadata": {
    "heading_collapsed": false,
    "level": 1
   },
   "source": [
    "# Comparing Data Sets"
   ]
  },
  {
   "cell_type": "markdown",
   "metadata": {
    "level": 7
   },
   "source": [
    "It looks like only about 9.85% of graduates took on a low wage job after finishing college.\n",
    "\n",
    "Both the all_ages and recent_grads data sets have 173 rows, corresponding to the 173 college major codes. This enables us to do some comparisons between the two data sets, and perform some initial calculations to see how the statistics for recent college graduates compare with those for the entire population.\n",
    "\n",
    "Next, let's calculate the number of majors where recent graduates did better than the overall population."
   ]
  },
  {
   "cell_type": "code",
   "execution_count": 69,
   "metadata": {
    "collapsed": false,
    "level": 7
   },
   "outputs": [
    {
     "data": {
      "text/plain": [
       "True"
      ]
     },
     "execution_count": 69,
     "metadata": {},
     "output_type": "execute_result"
    }
   ],
   "source": [
    "len(all_ages) == len(recent_grads)"
   ]
  },
  {
   "cell_type": "markdown",
   "metadata": {
    "level": 7
   },
   "source": [
    "<div class=\"alert alert-info\">\n",
    "    <ul>\n",
    "        <li>\n",
    "            Use a for loop to iterate over majors.\n",
    "            <ul>\n",
    "                <li>For each major, use Boolean filtering to find the corresponding row in both DataFrames.</li>\n",
    "                <li>Compare the values for Unemployment_rate to see which DataFrame has a lower value.</li>\n",
    "                <li>Increment rg_lower_count if the value for Unemployment_rate is lower for recent_grads than it is for all_ages.</li>\n",
    "            </ul>\n",
    "        </li>\n",
    "        <li>Display rg_lower_count with the print() function.</li>\n",
    "    </ul>\n",
    "</div>"
   ]
  },
  {
   "cell_type": "code",
   "execution_count": 76,
   "metadata": {
    "collapsed": false,
    "level": 7
   },
   "outputs": [],
   "source": [
    "# All majors, common to both DataFrames\n",
    "majors = recent_grads['Major'].unique()\n",
    "rg_lower_count = 0\n",
    "\n",
    "for maj in majors:\n",
    "    rg_row = recent_grads[recent_grads[\"Major\"] == maj]\n",
    "    aa_row = all_ages[all_ages[\"Major\"] == maj]\n",
    "    \n",
    "    rg_unemp_rate = rg_row.iloc[0]['Unemployment_rate']\n",
    "    aa_unemp_rate = aa_row.iloc[0]['Unemployment_rate']\n",
    "    \n",
    "    if rg_unemp_rate < aa_unemp_rate:\n",
    "        rg_lower_count += 1    "
   ]
  },
  {
   "cell_type": "code",
   "execution_count": 77,
   "metadata": {
    "collapsed": false,
    "level": 7
   },
   "outputs": [
    {
     "name": "stdout",
     "output_type": "stream",
     "text": [
      "43\n"
     ]
    }
   ],
   "source": [
    "print(rg_lower_count)"
   ]
  },
  {
   "cell_type": "markdown",
   "metadata": {
    "level": 7
   },
   "source": [
    "<div class=\"alert alert-warning\">\n",
    "It appears that less recent graduates who studied 43 of the 173 majors ended up having lower unemployment rates than the general population.\n",
    "\n",
    "In the next few missions, we'll dive further into the two key data structures in pandas: Series and DataFrame objects.\n",
    "</div>"
   ]
  }
 ],
 "metadata": {
  "anaconda-cloud": {},
  "kernelspec": {
   "display_name": "Python [conda root]",
   "language": "python",
   "name": "conda-root-py"
  },
  "language_info": {
   "codemirror_mode": {
    "name": "ipython",
    "version": 3
   },
   "file_extension": ".py",
   "mimetype": "text/x-python",
   "name": "python",
   "nbconvert_exporter": "python",
   "pygments_lexer": "ipython3",
   "version": "3.4.4"
  },
  "latex_envs": {
   "bibliofile": "biblio.bib",
   "cite_by": "apalike",
   "current_citInitial": 1,
   "eqLabelWithNumbers": true,
   "eqNumInitial": 0
  },
  "toc": {
   "toc_cell": true,
   "toc_number_sections": true,
   "toc_threshold": 6,
   "toc_window_display": false
  }
 },
 "nbformat": 4,
 "nbformat_minor": 1
}
